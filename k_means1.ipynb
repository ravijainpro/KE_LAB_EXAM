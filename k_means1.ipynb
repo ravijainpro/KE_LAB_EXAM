{
 "cells": [
  {
   "cell_type": "code",
   "execution_count": 5,
   "metadata": {},
   "outputs": [],
   "source": [
    "import numpy as np\n",
    "import pandas as pd\n",
    "import matplotlib.pyplot as plt"
   ]
  },
  {
   "cell_type": "code",
   "execution_count": 6,
   "metadata": {},
   "outputs": [],
   "source": [
    "class K_means:\n",
    "    def __init__(self, k=3, threshold=0.00001, max_iteration=500):\n",
    "        self.k=k\n",
    "        self.threshold=threshold\n",
    "        self.max_iteration=max_iteration\n",
    "    \n",
    "    def fit(self, data): \n",
    "        self.centroids = {}\n",
    "        for i in range(self.k):\n",
    "            self.centroids[i]=data[i]\n",
    "        for i in range(self.max_iteration):\n",
    "            self.classes = {}\n",
    "            for i in range(self.k): \n",
    "                self.classes[i] = []\n",
    "            for feature in data:\n",
    "                distances = [np.linalg.norm(feature-self.centroids[centroid]) for centroid in self.centroids]\n",
    "                classification = distances.index(min(distances))\n",
    "                self.classes[classification].append(feature)\n",
    "            self.isTrue=True\n",
    "            prev_centroids = dict(self.centroids)\n",
    "            for i in range(self.k):\n",
    "                self.centroids[i] = np.average(self.classes[i], axis=0)\n",
    "            for i in range(self.k):\n",
    "                if np.sum((self.centroids[i]-prev_centroids[i])/prev_centroids[i]) > self.threshold:\n",
    "                    isTrue = False\n",
    "            if isTrue==True:\n",
    "                break\n",
    "            \n",
    "    def pred(self, data):\n",
    "        distances = [np.linalg.norm(data-self.centroids[centroid]) for centroid in self.centroids]\n",
    "        classification = distances.index(min(distances))\n",
    "        return classification\n",
    "    "
   ]
  },
  {
   "cell_type": "code",
   "execution_count": 10,
   "metadata": {},
   "outputs": [
    {
     "name": "stdout",
     "output_type": "stream",
     "text": [
      "Cluster: 3  Color: g\n",
      "\n"
     ]
    },
    {
     "data": {
      "image/png": "[encoded data removed]",
      "text/plain": [
       "<Figure size 432x288 with 1 Axes>"
      ]
     },
     "metadata": {
      "needs_background": "light"
     },
     "output_type": "display_data"
    }
   ],
   "source": [
    "def main():\n",
    "    df = pd.read_csv(r\"./data/ipl.csv\")\n",
    "    df = df[['one','two']]\n",
    "    #dataset = df.astype(float).values.tolist()\n",
    "    X = df.values\n",
    "    km = K_means(3)\n",
    "    km.fit(X)\n",
    "    \n",
    "    colors = ['r', 'c', 'g', 'b', 'y']\n",
    "    markers = ['+', 'x','*','<','>']\n",
    "    \n",
    "    for centroid in km.centroids:\n",
    "        plt.scatter(km.centroids[centroid][0], km.centroids[centroid][1], color=\"black\", s = 150, marker = \"x\")\n",
    "        plt.scatter(km.centroids[centroid][0], km.centroids[centroid][1], color=\"black\", marker=\"o\", s=50)\n",
    "\n",
    "    for classes in km.classes:\n",
    "        color = colors[classes]\n",
    "        marker = markers[classes]\n",
    "        for data in km.classes[classes]:\n",
    "            plt.scatter(data[0], data[1], color=color, marker=marker, s=50)\n",
    "    \n",
    "    pred=km.pred([0.5,0.5])\n",
    "    print(\"Cluster: {0}  Color: {1}\".format(pred+1,colors[pred]))\n",
    "    print()\n",
    "    plt.scatter(0.5, 0.5, color=\"purple\", marker=\"^\", s=80)\n",
    "            \n",
    "if __name__ == \"__main__\":\n",
    "    main()\n"
   ]
  },
  {
   "cell_type": "code",
   "execution_count": null,
   "metadata": {},
   "outputs": [],
   "source": []
  },
  {
   "cell_type": "code",
   "execution_count": null,
   "metadata": {},
   "outputs": [],
   "source": []
  }
 ],
 "metadata": {
  "kernelspec": {
   "display_name": "Python 3",
   "language": "python",
   "name": "python3"
  },
  "language_info": {
   "codemirror_mode": {
    "name": "ipython",
    "version": 3
   },
   "file_extension": ".py",
   "mimetype": "text/x-python",
   "name": "python",
   "nbconvert_exporter": "python",
   "pygments_lexer": "ipython3",
   "version": "3.7.3"
  }
 },
 "nbformat": 4,
 "nbformat_minor": 2
}
